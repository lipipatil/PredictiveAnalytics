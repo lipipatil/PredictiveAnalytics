{
 "cells": [
  {
   "cell_type": "code",
   "execution_count": 2,
   "id": "6a7f88cc",
   "metadata": {},
   "outputs": [],
   "source": [
    "import numpy as np # linear algebra\n",
    "import pandas as pd\n",
    "\n",
    "import seaborn as sns\n",
    "import matplotlib.pyplot as plt\n",
    "%matplotlib inline\n",
    "import matplotlib.patches as mpatches\n",
    "from sklearn.model_selection import train_test_split\n",
    "\n",
    "from sklearn import preprocessing\n",
    "from sklearn.model_selection import train_test_split\n",
    "from sklearn.preprocessing import LabelEncoder\n",
    "from sklearn.ensemble import RandomForestClassifier\n",
    "from sklearn import feature_selection\n",
    "\n",
    "from sklearn.feature_selection import RFE\n",
    "from sklearn.tree import DecisionTreeClassifier\n",
    "from sklearn.metrics import r2_score\n",
    "\n",
    "from sklearn.metrics import precision_score, recall_score, f1_score, accuracy_score\n",
    "from sklearn.inspection import permutation_importance"
   ]
  },
  {
   "cell_type": "markdown",
   "id": "83289324",
   "metadata": {},
   "source": [
    "### Data Loading "
   ]
  },
  {
   "cell_type": "code",
   "execution_count": 3,
   "id": "d7dd591f",
   "metadata": {},
   "outputs": [],
   "source": [
    "sales_data = pd.read_csv('week 4 - Nashville_housing_data.csv')"
   ]
  },
  {
   "cell_type": "code",
   "execution_count": 4,
   "id": "6d86fac4",
   "metadata": {},
   "outputs": [
    {
     "data": {
      "text/html": [
       "<div>\n",
       "<style scoped>\n",
       "    .dataframe tbody tr th:only-of-type {\n",
       "        vertical-align: middle;\n",
       "    }\n",
       "\n",
       "    .dataframe tbody tr th {\n",
       "        vertical-align: top;\n",
       "    }\n",
       "\n",
       "    .dataframe thead th {\n",
       "        text-align: right;\n",
       "    }\n",
       "</style>\n",
       "<table border=\"1\" class=\"dataframe\">\n",
       "  <thead>\n",
       "    <tr style=\"text-align: right;\">\n",
       "      <th></th>\n",
       "      <th>Unnamed: 0</th>\n",
       "      <th>Parcel ID</th>\n",
       "      <th>Land Use</th>\n",
       "      <th>Property Address</th>\n",
       "      <th>Suite/ Condo   #</th>\n",
       "      <th>Property City</th>\n",
       "      <th>Sale Date</th>\n",
       "      <th>Legal Reference</th>\n",
       "      <th>Sold As Vacant</th>\n",
       "      <th>Multiple Parcels Involved in Sale</th>\n",
       "      <th>...</th>\n",
       "      <th>Building Value</th>\n",
       "      <th>Finished Area</th>\n",
       "      <th>Foundation Type</th>\n",
       "      <th>Year Built</th>\n",
       "      <th>Exterior Wall</th>\n",
       "      <th>Grade</th>\n",
       "      <th>Bedrooms</th>\n",
       "      <th>Full Bath</th>\n",
       "      <th>Half Bath</th>\n",
       "      <th>Sale Price Compared To Value</th>\n",
       "    </tr>\n",
       "  </thead>\n",
       "  <tbody>\n",
       "    <tr>\n",
       "      <th>0</th>\n",
       "      <td>1</td>\n",
       "      <td>105 11 0 080.00</td>\n",
       "      <td>SINGLE FAMILY</td>\n",
       "      <td>1802  STEWART PL</td>\n",
       "      <td>NaN</td>\n",
       "      <td>NASHVILLE</td>\n",
       "      <td>1/11/2013</td>\n",
       "      <td>20130118-0006337</td>\n",
       "      <td>No</td>\n",
       "      <td>No</td>\n",
       "      <td>...</td>\n",
       "      <td>134400</td>\n",
       "      <td>1149.00000</td>\n",
       "      <td>PT BSMT</td>\n",
       "      <td>1941</td>\n",
       "      <td>BRICK</td>\n",
       "      <td>C</td>\n",
       "      <td>2.0</td>\n",
       "      <td>1.0</td>\n",
       "      <td>0.0</td>\n",
       "      <td>Over</td>\n",
       "    </tr>\n",
       "    <tr>\n",
       "      <th>1</th>\n",
       "      <td>2</td>\n",
       "      <td>118 03 0 130.00</td>\n",
       "      <td>SINGLE FAMILY</td>\n",
       "      <td>2761  ROSEDALE PL</td>\n",
       "      <td>NaN</td>\n",
       "      <td>NASHVILLE</td>\n",
       "      <td>1/18/2013</td>\n",
       "      <td>20130124-0008033</td>\n",
       "      <td>No</td>\n",
       "      <td>No</td>\n",
       "      <td>...</td>\n",
       "      <td>157800</td>\n",
       "      <td>2090.82495</td>\n",
       "      <td>SLAB</td>\n",
       "      <td>2000</td>\n",
       "      <td>BRICK/FRAME</td>\n",
       "      <td>C</td>\n",
       "      <td>3.0</td>\n",
       "      <td>2.0</td>\n",
       "      <td>1.0</td>\n",
       "      <td>Over</td>\n",
       "    </tr>\n",
       "    <tr>\n",
       "      <th>2</th>\n",
       "      <td>3</td>\n",
       "      <td>119 01 0 479.00</td>\n",
       "      <td>SINGLE FAMILY</td>\n",
       "      <td>224  PEACHTREE ST</td>\n",
       "      <td>NaN</td>\n",
       "      <td>NASHVILLE</td>\n",
       "      <td>1/18/2013</td>\n",
       "      <td>20130128-0008863</td>\n",
       "      <td>No</td>\n",
       "      <td>No</td>\n",
       "      <td>...</td>\n",
       "      <td>243700</td>\n",
       "      <td>2145.60001</td>\n",
       "      <td>FULL BSMT</td>\n",
       "      <td>1948</td>\n",
       "      <td>BRICK/FRAME</td>\n",
       "      <td>B</td>\n",
       "      <td>4.0</td>\n",
       "      <td>2.0</td>\n",
       "      <td>0.0</td>\n",
       "      <td>Under</td>\n",
       "    </tr>\n",
       "    <tr>\n",
       "      <th>3</th>\n",
       "      <td>4</td>\n",
       "      <td>119 05 0 186.00</td>\n",
       "      <td>SINGLE FAMILY</td>\n",
       "      <td>316  LUTIE ST</td>\n",
       "      <td>NaN</td>\n",
       "      <td>NASHVILLE</td>\n",
       "      <td>1/23/2013</td>\n",
       "      <td>20130131-0009929</td>\n",
       "      <td>No</td>\n",
       "      <td>No</td>\n",
       "      <td>...</td>\n",
       "      <td>138100</td>\n",
       "      <td>1969.00000</td>\n",
       "      <td>CRAWL</td>\n",
       "      <td>1910</td>\n",
       "      <td>FRAME</td>\n",
       "      <td>C</td>\n",
       "      <td>2.0</td>\n",
       "      <td>1.0</td>\n",
       "      <td>0.0</td>\n",
       "      <td>Under</td>\n",
       "    </tr>\n",
       "    <tr>\n",
       "      <th>4</th>\n",
       "      <td>5</td>\n",
       "      <td>119 05 0 387.00</td>\n",
       "      <td>SINGLE FAMILY</td>\n",
       "      <td>2626  FOSTER AVE</td>\n",
       "      <td>NaN</td>\n",
       "      <td>NASHVILLE</td>\n",
       "      <td>1/4/2013</td>\n",
       "      <td>20130118-0006110</td>\n",
       "      <td>No</td>\n",
       "      <td>No</td>\n",
       "      <td>...</td>\n",
       "      <td>86100</td>\n",
       "      <td>1037.00000</td>\n",
       "      <td>CRAWL</td>\n",
       "      <td>1945</td>\n",
       "      <td>FRAME</td>\n",
       "      <td>C</td>\n",
       "      <td>2.0</td>\n",
       "      <td>1.0</td>\n",
       "      <td>0.0</td>\n",
       "      <td>Under</td>\n",
       "    </tr>\n",
       "  </tbody>\n",
       "</table>\n",
       "<p>5 rows × 26 columns</p>\n",
       "</div>"
      ],
      "text/plain": [
       "   Unnamed: 0        Parcel ID       Land Use   Property Address  \\\n",
       "0           1  105 11 0 080.00  SINGLE FAMILY   1802  STEWART PL   \n",
       "1           2  118 03 0 130.00  SINGLE FAMILY  2761  ROSEDALE PL   \n",
       "2           3  119 01 0 479.00  SINGLE FAMILY  224  PEACHTREE ST   \n",
       "3           4  119 05 0 186.00  SINGLE FAMILY      316  LUTIE ST   \n",
       "4           5  119 05 0 387.00  SINGLE FAMILY   2626  FOSTER AVE   \n",
       "\n",
       "   Suite/ Condo   # Property City  Sale Date   Legal Reference Sold As Vacant  \\\n",
       "0               NaN     NASHVILLE  1/11/2013  20130118-0006337             No   \n",
       "1               NaN     NASHVILLE  1/18/2013  20130124-0008033             No   \n",
       "2               NaN     NASHVILLE  1/18/2013  20130128-0008863             No   \n",
       "3               NaN     NASHVILLE  1/23/2013  20130131-0009929             No   \n",
       "4               NaN     NASHVILLE   1/4/2013  20130118-0006110             No   \n",
       "\n",
       "  Multiple Parcels Involved in Sale  ... Building Value Finished Area  \\\n",
       "0                                No  ...         134400    1149.00000   \n",
       "1                                No  ...         157800    2090.82495   \n",
       "2                                No  ...         243700    2145.60001   \n",
       "3                                No  ...         138100    1969.00000   \n",
       "4                                No  ...          86100    1037.00000   \n",
       "\n",
       "   Foundation Type Year Built  Exterior Wall  Grade  Bedrooms  Full Bath  \\\n",
       "0          PT BSMT       1941          BRICK   C          2.0        1.0   \n",
       "1             SLAB       2000    BRICK/FRAME   C          3.0        2.0   \n",
       "2        FULL BSMT       1948    BRICK/FRAME   B          4.0        2.0   \n",
       "3            CRAWL       1910          FRAME   C          2.0        1.0   \n",
       "4            CRAWL       1945          FRAME   C          2.0        1.0   \n",
       "\n",
       "  Half Bath  Sale Price Compared To Value  \n",
       "0       0.0                          Over  \n",
       "1       1.0                          Over  \n",
       "2       0.0                         Under  \n",
       "3       0.0                         Under  \n",
       "4       0.0                         Under  \n",
       "\n",
       "[5 rows x 26 columns]"
      ]
     },
     "execution_count": 4,
     "metadata": {},
     "output_type": "execute_result"
    }
   ],
   "source": [
    "sales_data.head()"
   ]
  },
  {
   "cell_type": "code",
   "execution_count": 5,
   "id": "ff2c56b0",
   "metadata": {},
   "outputs": [
    {
     "data": {
      "text/html": [
       "<div>\n",
       "<style scoped>\n",
       "    .dataframe tbody tr th:only-of-type {\n",
       "        vertical-align: middle;\n",
       "    }\n",
       "\n",
       "    .dataframe tbody tr th {\n",
       "        vertical-align: top;\n",
       "    }\n",
       "\n",
       "    .dataframe thead th {\n",
       "        text-align: right;\n",
       "    }\n",
       "</style>\n",
       "<table border=\"1\" class=\"dataframe\">\n",
       "  <thead>\n",
       "    <tr style=\"text-align: right;\">\n",
       "      <th></th>\n",
       "      <th>Unnamed: 0</th>\n",
       "      <th>Suite/ Condo   #</th>\n",
       "      <th>Acreage</th>\n",
       "      <th>Neighborhood</th>\n",
       "      <th>Land Value</th>\n",
       "      <th>Building Value</th>\n",
       "      <th>Finished Area</th>\n",
       "      <th>Year Built</th>\n",
       "      <th>Bedrooms</th>\n",
       "      <th>Full Bath</th>\n",
       "      <th>Half Bath</th>\n",
       "    </tr>\n",
       "  </thead>\n",
       "  <tbody>\n",
       "    <tr>\n",
       "      <th>count</th>\n",
       "      <td>22651.000000</td>\n",
       "      <td>0.0</td>\n",
       "      <td>22651.000000</td>\n",
       "      <td>22651.000000</td>\n",
       "      <td>2.265100e+04</td>\n",
       "      <td>2.265100e+04</td>\n",
       "      <td>22650.000000</td>\n",
       "      <td>22651.000000</td>\n",
       "      <td>22648.000000</td>\n",
       "      <td>22650.000000</td>\n",
       "      <td>22543.000000</td>\n",
       "    </tr>\n",
       "    <tr>\n",
       "      <th>mean</th>\n",
       "      <td>27889.491192</td>\n",
       "      <td>NaN</td>\n",
       "      <td>0.454705</td>\n",
       "      <td>4432.715024</td>\n",
       "      <td>7.013797e+04</td>\n",
       "      <td>1.722402e+05</td>\n",
       "      <td>1915.377151</td>\n",
       "      <td>1961.947684</td>\n",
       "      <td>3.104910</td>\n",
       "      <td>1.887285</td>\n",
       "      <td>0.270239</td>\n",
       "    </tr>\n",
       "    <tr>\n",
       "      <th>std</th>\n",
       "      <td>16598.865706</td>\n",
       "      <td>NaN</td>\n",
       "      <td>0.611818</td>\n",
       "      <td>2142.803595</td>\n",
       "      <td>1.029035e+05</td>\n",
       "      <td>1.896424e+05</td>\n",
       "      <td>1079.094521</td>\n",
       "      <td>25.843908</td>\n",
       "      <td>0.829287</td>\n",
       "      <td>0.951220</td>\n",
       "      <td>0.480186</td>\n",
       "    </tr>\n",
       "    <tr>\n",
       "      <th>min</th>\n",
       "      <td>1.000000</td>\n",
       "      <td>NaN</td>\n",
       "      <td>0.040000</td>\n",
       "      <td>107.000000</td>\n",
       "      <td>9.000000e+02</td>\n",
       "      <td>1.400000e+03</td>\n",
       "      <td>450.000000</td>\n",
       "      <td>1832.000000</td>\n",
       "      <td>0.000000</td>\n",
       "      <td>0.000000</td>\n",
       "      <td>0.000000</td>\n",
       "    </tr>\n",
       "    <tr>\n",
       "      <th>25%</th>\n",
       "      <td>13324.500000</td>\n",
       "      <td>NaN</td>\n",
       "      <td>0.200000</td>\n",
       "      <td>3130.000000</td>\n",
       "      <td>2.200000e+04</td>\n",
       "      <td>8.550000e+04</td>\n",
       "      <td>1250.000000</td>\n",
       "      <td>1947.000000</td>\n",
       "      <td>3.000000</td>\n",
       "      <td>1.000000</td>\n",
       "      <td>0.000000</td>\n",
       "    </tr>\n",
       "    <tr>\n",
       "      <th>50%</th>\n",
       "      <td>27712.000000</td>\n",
       "      <td>NaN</td>\n",
       "      <td>0.280000</td>\n",
       "      <td>4026.000000</td>\n",
       "      <td>3.000000e+04</td>\n",
       "      <td>1.188000e+05</td>\n",
       "      <td>1645.824995</td>\n",
       "      <td>1959.000000</td>\n",
       "      <td>3.000000</td>\n",
       "      <td>2.000000</td>\n",
       "      <td>0.000000</td>\n",
       "    </tr>\n",
       "    <tr>\n",
       "      <th>75%</th>\n",
       "      <td>42330.500000</td>\n",
       "      <td>NaN</td>\n",
       "      <td>0.460000</td>\n",
       "      <td>6229.000000</td>\n",
       "      <td>6.030000e+04</td>\n",
       "      <td>1.882500e+05</td>\n",
       "      <td>2213.375000</td>\n",
       "      <td>1977.000000</td>\n",
       "      <td>4.000000</td>\n",
       "      <td>2.000000</td>\n",
       "      <td>1.000000</td>\n",
       "    </tr>\n",
       "    <tr>\n",
       "      <th>max</th>\n",
       "      <td>56615.000000</td>\n",
       "      <td>NaN</td>\n",
       "      <td>17.500000</td>\n",
       "      <td>9530.000000</td>\n",
       "      <td>1.869000e+06</td>\n",
       "      <td>5.824300e+06</td>\n",
       "      <td>19728.249880</td>\n",
       "      <td>2017.000000</td>\n",
       "      <td>11.000000</td>\n",
       "      <td>10.000000</td>\n",
       "      <td>3.000000</td>\n",
       "    </tr>\n",
       "  </tbody>\n",
       "</table>\n",
       "</div>"
      ],
      "text/plain": [
       "         Unnamed: 0  Suite/ Condo   #       Acreage  Neighborhood  \\\n",
       "count  22651.000000               0.0  22651.000000  22651.000000   \n",
       "mean   27889.491192               NaN      0.454705   4432.715024   \n",
       "std    16598.865706               NaN      0.611818   2142.803595   \n",
       "min        1.000000               NaN      0.040000    107.000000   \n",
       "25%    13324.500000               NaN      0.200000   3130.000000   \n",
       "50%    27712.000000               NaN      0.280000   4026.000000   \n",
       "75%    42330.500000               NaN      0.460000   6229.000000   \n",
       "max    56615.000000               NaN     17.500000   9530.000000   \n",
       "\n",
       "         Land Value  Building Value  Finished Area    Year Built  \\\n",
       "count  2.265100e+04    2.265100e+04   22650.000000  22651.000000   \n",
       "mean   7.013797e+04    1.722402e+05    1915.377151   1961.947684   \n",
       "std    1.029035e+05    1.896424e+05    1079.094521     25.843908   \n",
       "min    9.000000e+02    1.400000e+03     450.000000   1832.000000   \n",
       "25%    2.200000e+04    8.550000e+04    1250.000000   1947.000000   \n",
       "50%    3.000000e+04    1.188000e+05    1645.824995   1959.000000   \n",
       "75%    6.030000e+04    1.882500e+05    2213.375000   1977.000000   \n",
       "max    1.869000e+06    5.824300e+06   19728.249880   2017.000000   \n",
       "\n",
       "           Bedrooms     Full Bath     Half Bath  \n",
       "count  22648.000000  22650.000000  22543.000000  \n",
       "mean       3.104910      1.887285      0.270239  \n",
       "std        0.829287      0.951220      0.480186  \n",
       "min        0.000000      0.000000      0.000000  \n",
       "25%        3.000000      1.000000      0.000000  \n",
       "50%        3.000000      2.000000      0.000000  \n",
       "75%        4.000000      2.000000      1.000000  \n",
       "max       11.000000     10.000000      3.000000  "
      ]
     },
     "execution_count": 5,
     "metadata": {},
     "output_type": "execute_result"
    }
   ],
   "source": [
    "sales_data.describe()"
   ]
  },
  {
   "cell_type": "code",
   "execution_count": 6,
   "id": "cb179682",
   "metadata": {},
   "outputs": [
    {
     "data": {
      "text/plain": [
       "Unnamed: 0                               0\n",
       "Parcel ID                                0\n",
       "Land Use                                 0\n",
       "Property Address                         2\n",
       "Suite/ Condo   #                     22651\n",
       "Property City                            2\n",
       "Sale Date                                0\n",
       "Legal Reference                          0\n",
       "Sold As Vacant                           0\n",
       "Multiple Parcels Involved in Sale        0\n",
       "City                                     0\n",
       "State                                    0\n",
       "Acreage                                  0\n",
       "Tax District                             0\n",
       "Neighborhood                             0\n",
       "Land Value                               0\n",
       "Building Value                           0\n",
       "Finished Area                            1\n",
       "Foundation Type                          1\n",
       "Year Built                               0\n",
       "Exterior Wall                            0\n",
       "Grade                                    0\n",
       "Bedrooms                                 3\n",
       "Full Bath                                1\n",
       "Half Bath                              108\n",
       "Sale Price Compared To Value             0\n",
       "dtype: int64"
      ]
     },
     "execution_count": 6,
     "metadata": {},
     "output_type": "execute_result"
    }
   ],
   "source": [
    "sales_data.isna().sum()"
   ]
  },
  {
   "cell_type": "code",
   "execution_count": 9,
   "id": "3981aeb9",
   "metadata": {},
   "outputs": [
    {
     "data": {
      "text/plain": [
       "0"
      ]
     },
     "execution_count": 9,
     "metadata": {},
     "output_type": "execute_result"
    }
   ],
   "source": [
    "sales_data.duplicated().sum()"
   ]
  },
  {
   "cell_type": "markdown",
   "id": "a5d5f177",
   "metadata": {},
   "source": [
    "### Data Cleaning"
   ]
  },
  {
   "cell_type": "code",
   "execution_count": 10,
   "id": "b3d3fb79",
   "metadata": {},
   "outputs": [],
   "source": [
    "sales_data['Half Bath'] = sales_data['Half Bath'].fillna(sales_data['Half Bath'].median())"
   ]
  },
  {
   "cell_type": "code",
   "execution_count": 11,
   "id": "e63023fc",
   "metadata": {},
   "outputs": [],
   "source": [
    "sales_data['Full Bath'] = sales_data['Full Bath'].fillna(sales_data['Full Bath'].median())"
   ]
  },
  {
   "cell_type": "code",
   "execution_count": 12,
   "id": "517e0f53",
   "metadata": {},
   "outputs": [],
   "source": [
    "sales_data['Bedrooms'] = sales_data['Bedrooms'].fillna(sales_data['Bedrooms'].median())"
   ]
  },
  {
   "cell_type": "code",
   "execution_count": 13,
   "id": "dd6d9616",
   "metadata": {},
   "outputs": [],
   "source": [
    "sales_data['Foundation Type'] = sales_data['Foundation Type'].fillna('No Type')"
   ]
  },
  {
   "cell_type": "code",
   "execution_count": 14,
   "id": "f0c89b60",
   "metadata": {},
   "outputs": [],
   "source": [
    "sales_data['Finished Area'] = sales_data['Finished Area'].fillna(sales_data['Finished Area'].median())"
   ]
  },
  {
   "cell_type": "code",
   "execution_count": 15,
   "id": "1135b330",
   "metadata": {},
   "outputs": [],
   "source": [
    "sales_data['Property City'] = sales_data['Property City'].fillna('Not Applicable')"
   ]
  },
  {
   "cell_type": "code",
   "execution_count": 16,
   "id": "dd37a45d",
   "metadata": {},
   "outputs": [],
   "source": [
    "sales_data['Property Address'] = sales_data['Property Address'].fillna('Not Applicable')"
   ]
  },
  {
   "cell_type": "code",
   "execution_count": 17,
   "id": "539e25f9",
   "metadata": {},
   "outputs": [],
   "source": [
    "#convert the date column to date type column, and divide into three columns\n",
    "sales_data['Sale Date'] = pd.to_datetime(sales_data['Sale Date'])\n",
    "sales_data['Year'] = sales_data['Sale Date'].apply(lambda x: x.year)\n",
    "sales_data['Month'] = sales_data['Sale Date'].apply(lambda x: x.month)\n",
    "sales_data['Day'] = sales_data['Sale Date'].apply(lambda x: x.day)"
   ]
  },
  {
   "cell_type": "code",
   "execution_count": 18,
   "id": "f6e7d198",
   "metadata": {},
   "outputs": [
    {
     "data": {
      "text/html": [
       "<div>\n",
       "<style scoped>\n",
       "    .dataframe tbody tr th:only-of-type {\n",
       "        vertical-align: middle;\n",
       "    }\n",
       "\n",
       "    .dataframe tbody tr th {\n",
       "        vertical-align: top;\n",
       "    }\n",
       "\n",
       "    .dataframe thead th {\n",
       "        text-align: right;\n",
       "    }\n",
       "</style>\n",
       "<table border=\"1\" class=\"dataframe\">\n",
       "  <thead>\n",
       "    <tr style=\"text-align: right;\">\n",
       "      <th></th>\n",
       "      <th>Unnamed: 0</th>\n",
       "      <th>Parcel ID</th>\n",
       "      <th>Land Use</th>\n",
       "      <th>Property Address</th>\n",
       "      <th>Suite/ Condo   #</th>\n",
       "      <th>Property City</th>\n",
       "      <th>Sale Date</th>\n",
       "      <th>Legal Reference</th>\n",
       "      <th>Sold As Vacant</th>\n",
       "      <th>Multiple Parcels Involved in Sale</th>\n",
       "      <th>...</th>\n",
       "      <th>Year Built</th>\n",
       "      <th>Exterior Wall</th>\n",
       "      <th>Grade</th>\n",
       "      <th>Bedrooms</th>\n",
       "      <th>Full Bath</th>\n",
       "      <th>Half Bath</th>\n",
       "      <th>Sale Price Compared To Value</th>\n",
       "      <th>Year</th>\n",
       "      <th>Month</th>\n",
       "      <th>Day</th>\n",
       "    </tr>\n",
       "  </thead>\n",
       "  <tbody>\n",
       "    <tr>\n",
       "      <th>22646</th>\n",
       "      <td>56602</td>\n",
       "      <td>176 01 0 003.00</td>\n",
       "      <td>SINGLE FAMILY</td>\n",
       "      <td>4617 ROCKLAND  TRL</td>\n",
       "      <td>NaN</td>\n",
       "      <td>ANTIOCH</td>\n",
       "      <td>2016-10-13</td>\n",
       "      <td>20161019-0110290</td>\n",
       "      <td>No</td>\n",
       "      <td>No</td>\n",
       "      <td>...</td>\n",
       "      <td>1996</td>\n",
       "      <td>BRICK/FRAME</td>\n",
       "      <td>C</td>\n",
       "      <td>3.0</td>\n",
       "      <td>2.0</td>\n",
       "      <td>0.0</td>\n",
       "      <td>Over</td>\n",
       "      <td>2016</td>\n",
       "      <td>10</td>\n",
       "      <td>13</td>\n",
       "    </tr>\n",
       "    <tr>\n",
       "      <th>22647</th>\n",
       "      <td>56605</td>\n",
       "      <td>176 05 0 070.00</td>\n",
       "      <td>SINGLE FAMILY</td>\n",
       "      <td>5004 SUNSHINE  DR</td>\n",
       "      <td>NaN</td>\n",
       "      <td>ANTIOCH</td>\n",
       "      <td>2016-10-26</td>\n",
       "      <td>20161102-0115842</td>\n",
       "      <td>No</td>\n",
       "      <td>No</td>\n",
       "      <td>...</td>\n",
       "      <td>1996</td>\n",
       "      <td>BRICK/FRAME</td>\n",
       "      <td>C</td>\n",
       "      <td>3.0</td>\n",
       "      <td>3.0</td>\n",
       "      <td>0.0</td>\n",
       "      <td>Over</td>\n",
       "      <td>2016</td>\n",
       "      <td>10</td>\n",
       "      <td>26</td>\n",
       "    </tr>\n",
       "    <tr>\n",
       "      <th>22648</th>\n",
       "      <td>56607</td>\n",
       "      <td>176 09 0 003.00</td>\n",
       "      <td>SINGLE FAMILY</td>\n",
       "      <td>4964 HICKORY WOODS  E</td>\n",
       "      <td>NaN</td>\n",
       "      <td>ANTIOCH</td>\n",
       "      <td>2016-10-28</td>\n",
       "      <td>20161031-0114817</td>\n",
       "      <td>No</td>\n",
       "      <td>No</td>\n",
       "      <td>...</td>\n",
       "      <td>1995</td>\n",
       "      <td>BRICK/FRAME</td>\n",
       "      <td>C</td>\n",
       "      <td>3.0</td>\n",
       "      <td>3.0</td>\n",
       "      <td>0.0</td>\n",
       "      <td>Over</td>\n",
       "      <td>2016</td>\n",
       "      <td>10</td>\n",
       "      <td>28</td>\n",
       "    </tr>\n",
       "    <tr>\n",
       "      <th>22649</th>\n",
       "      <td>56614</td>\n",
       "      <td>082 05 0 040.00</td>\n",
       "      <td>SINGLE FAMILY</td>\n",
       "      <td>1625 5TH  AVE N</td>\n",
       "      <td>NaN</td>\n",
       "      <td>NASHVILLE</td>\n",
       "      <td>2016-10-28</td>\n",
       "      <td>20161102-0115988</td>\n",
       "      <td>No</td>\n",
       "      <td>No</td>\n",
       "      <td>...</td>\n",
       "      <td>2004</td>\n",
       "      <td>FRAME</td>\n",
       "      <td>B</td>\n",
       "      <td>3.0</td>\n",
       "      <td>2.0</td>\n",
       "      <td>1.0</td>\n",
       "      <td>Over</td>\n",
       "      <td>2016</td>\n",
       "      <td>10</td>\n",
       "      <td>28</td>\n",
       "    </tr>\n",
       "    <tr>\n",
       "      <th>22650</th>\n",
       "      <td>56615</td>\n",
       "      <td>082 05 0 058.00</td>\n",
       "      <td>SINGLE FAMILY</td>\n",
       "      <td>1614 5TH  AVE N</td>\n",
       "      <td>NaN</td>\n",
       "      <td>NASHVILLE</td>\n",
       "      <td>2016-10-26</td>\n",
       "      <td>20161101-0115366</td>\n",
       "      <td>No</td>\n",
       "      <td>No</td>\n",
       "      <td>...</td>\n",
       "      <td>2005</td>\n",
       "      <td>FRAME</td>\n",
       "      <td>B</td>\n",
       "      <td>4.0</td>\n",
       "      <td>3.0</td>\n",
       "      <td>1.0</td>\n",
       "      <td>Over</td>\n",
       "      <td>2016</td>\n",
       "      <td>10</td>\n",
       "      <td>26</td>\n",
       "    </tr>\n",
       "  </tbody>\n",
       "</table>\n",
       "<p>5 rows × 29 columns</p>\n",
       "</div>"
      ],
      "text/plain": [
       "       Unnamed: 0        Parcel ID       Land Use       Property Address  \\\n",
       "22646       56602  176 01 0 003.00  SINGLE FAMILY     4617 ROCKLAND  TRL   \n",
       "22647       56605  176 05 0 070.00  SINGLE FAMILY      5004 SUNSHINE  DR   \n",
       "22648       56607  176 09 0 003.00  SINGLE FAMILY  4964 HICKORY WOODS  E   \n",
       "22649       56614  082 05 0 040.00  SINGLE FAMILY        1625 5TH  AVE N   \n",
       "22650       56615  082 05 0 058.00  SINGLE FAMILY        1614 5TH  AVE N   \n",
       "\n",
       "       Suite/ Condo   # Property City  Sale Date   Legal Reference  \\\n",
       "22646               NaN       ANTIOCH 2016-10-13  20161019-0110290   \n",
       "22647               NaN       ANTIOCH 2016-10-26  20161102-0115842   \n",
       "22648               NaN       ANTIOCH 2016-10-28  20161031-0114817   \n",
       "22649               NaN     NASHVILLE 2016-10-28  20161102-0115988   \n",
       "22650               NaN     NASHVILLE 2016-10-26  20161101-0115366   \n",
       "\n",
       "      Sold As Vacant Multiple Parcels Involved in Sale  ... Year Built  \\\n",
       "22646             No                                No  ...       1996   \n",
       "22647             No                                No  ...       1996   \n",
       "22648             No                                No  ...       1995   \n",
       "22649             No                                No  ...       2004   \n",
       "22650             No                                No  ...       2005   \n",
       "\n",
       "      Exterior Wall  Grade Bedrooms  Full Bath  Half Bath  \\\n",
       "22646   BRICK/FRAME   C         3.0        2.0        0.0   \n",
       "22647   BRICK/FRAME   C         3.0        3.0        0.0   \n",
       "22648   BRICK/FRAME   C         3.0        3.0        0.0   \n",
       "22649         FRAME   B         3.0        2.0        1.0   \n",
       "22650         FRAME   B         4.0        3.0        1.0   \n",
       "\n",
       "       Sale Price Compared To Value  Year Month  Day  \n",
       "22646                          Over  2016    10   13  \n",
       "22647                          Over  2016    10   26  \n",
       "22648                          Over  2016    10   28  \n",
       "22649                          Over  2016    10   28  \n",
       "22650                          Over  2016    10   26  \n",
       "\n",
       "[5 rows x 29 columns]"
      ]
     },
     "execution_count": 18,
     "metadata": {},
     "output_type": "execute_result"
    }
   ],
   "source": [
    "sales_data.tail()"
   ]
  },
  {
   "cell_type": "code",
   "execution_count": 19,
   "id": "e7e27464",
   "metadata": {},
   "outputs": [],
   "source": [
    "## Dropping the unwanted values\n",
    "\n",
    "sales_data = sales_data.drop('Suite/ Condo   #',axis = 1)\n",
    "sales_data = sales_data.drop('Unnamed: 0',axis = 1)\n",
    "sales_data = sales_data.drop('Parcel ID',axis = 1)"
   ]
  },
  {
   "cell_type": "code",
   "execution_count": 20,
   "id": "40473123",
   "metadata": {},
   "outputs": [
    {
     "data": {
      "text/plain": [
       "41"
      ]
     },
     "execution_count": 20,
     "metadata": {},
     "output_type": "execute_result"
    }
   ],
   "source": [
    "##checking for dupliates again\n",
    "\n",
    "sales_data.duplicated().sum()\n",
    "### There are 41 duplicates. "
   ]
  },
  {
   "cell_type": "code",
   "execution_count": 21,
   "id": "1e436458",
   "metadata": {},
   "outputs": [
    {
     "data": {
      "text/plain": [
       "(22651, 26)"
      ]
     },
     "execution_count": 21,
     "metadata": {},
     "output_type": "execute_result"
    }
   ],
   "source": [
    "sales_data.shape"
   ]
  },
  {
   "cell_type": "code",
   "execution_count": 22,
   "id": "2537cd7a",
   "metadata": {},
   "outputs": [
    {
     "data": {
      "text/plain": [
       "(22610, 26)"
      ]
     },
     "execution_count": 22,
     "metadata": {},
     "output_type": "execute_result"
    }
   ],
   "source": [
    "sales_data = sales_data.drop_duplicates(keep= 'first')\n",
    "sales_data.shape"
   ]
  },
  {
   "cell_type": "code",
   "execution_count": null,
   "id": "80a19493",
   "metadata": {},
   "outputs": [],
   "source": []
  },
  {
   "cell_type": "code",
   "execution_count": null,
   "id": "f507a6f9",
   "metadata": {},
   "outputs": [],
   "source": []
  },
  {
   "cell_type": "code",
   "execution_count": null,
   "id": "b6c0cc64",
   "metadata": {},
   "outputs": [],
   "source": []
  },
  {
   "cell_type": "markdown",
   "id": "40832a1d",
   "metadata": {},
   "source": [
    "### EDA"
   ]
  },
  {
   "cell_type": "code",
   "execution_count": 28,
   "id": "858e2ba1",
   "metadata": {},
   "outputs": [
    {
     "data": {
      "text/plain": [
       "Text(0.5, 1.0, 'Properties in multiple Cities')"
      ]
     },
     "execution_count": 28,
     "metadata": {},
     "output_type": "execute_result"
    },
    {
     "data": {
      "image/png": "[encoded data removed]",
      "text/plain": [
       "<Figure size 1280x720 with 1 Axes>"
      ]
     },
     "metadata": {
      "needs_background": "light"
     },
     "output_type": "display_data"
    }
   ],
   "source": [
    "from matplotlib.pyplot import figure\n",
    "\n",
    "figure(figsize=(16, 9), dpi=80)\n",
    "sns.countplot(x = 'Property City',data = sales_data)\n",
    "\n",
    "plt.title('Properties in multiple Cities')"
   ]
  },
  {
   "cell_type": "code",
   "execution_count": 29,
   "id": "1a618672",
   "metadata": {},
   "outputs": [
    {
     "data": {
      "text/plain": [
       "NASHVILLE         17978\n",
       "MADISON            1146\n",
       "ANTIOCH            1124\n",
       "HERMITAGE           913\n",
       "OLD HICKORY         824\n",
       "GOODLETTSVILLE      435\n",
       "BRENTWOOD           158\n",
       "WHITES CREEK         13\n",
       "JOELTON              11\n",
       "MOUNT JULIET          6\n",
       "Not Applicable        2\n",
       "Name: Property City, dtype: int64"
      ]
     },
     "execution_count": 29,
     "metadata": {},
     "output_type": "execute_result"
    }
   ],
   "source": [
    "sales_data['Property City'].value_counts()"
   ]
  },
  {
   "cell_type": "code",
   "execution_count": 30,
   "id": "791d72ba",
   "metadata": {},
   "outputs": [
    {
     "data": {
      "text/plain": [
       "Text(0.5, 1.0, 'Year wise Sales')"
      ]
     },
     "execution_count": 30,
     "metadata": {},
     "output_type": "execute_result"
    },
    {
     "data": {
      "image/png": "[encoded data removed]",
      "text/plain": [
       "<Figure size 432x288 with 1 Axes>"
      ]
     },
     "metadata": {
      "needs_background": "light"
     },
     "output_type": "display_data"
    }
   ],
   "source": [
    "\n",
    "#fig, (axis1, axis2, axis3) = plt.subplots(1,3, figsize=(13,5))\n",
    "sns.countplot(x='Year', data=sales_data)\n",
    "plt.title('Year wise Sales')"
   ]
  },
  {
   "cell_type": "code",
   "execution_count": 31,
   "id": "1c172de2",
   "metadata": {},
   "outputs": [
    {
     "data": {
      "text/plain": [
       "2015    6389\n",
       "2014    5727\n",
       "2016    5621\n",
       "2013    4873\n",
       "Name: Year, dtype: int64"
      ]
     },
     "execution_count": 31,
     "metadata": {},
     "output_type": "execute_result"
    }
   ],
   "source": [
    "sales_data['Year'].value_counts()"
   ]
  },
  {
   "cell_type": "code",
   "execution_count": 37,
   "id": "f87912c0",
   "metadata": {},
   "outputs": [
    {
     "data": {
      "text/plain": [
       "Text(0.5, 1.0, 'Month-wise Sales')"
      ]
     },
     "execution_count": 37,
     "metadata": {},
     "output_type": "execute_result"
    },
    {
     "data": {
      "image/png": "[encoded data removed]",
      "text/plain": [
       "<Figure size 432x288 with 1 Axes>"
      ]
     },
     "metadata": {
      "needs_background": "light"
     },
     "output_type": "display_data"
    }
   ],
   "source": [
    "sns.countplot(x='Month', data=sales_data)\n",
    "plt.title('Month-wise Sales')"
   ]
  },
  {
   "cell_type": "code",
   "execution_count": 36,
   "id": "26378456",
   "metadata": {},
   "outputs": [
    {
     "data": {
      "text/plain": [
       "Text(0, 0.5, 'Count')"
      ]
     },
     "execution_count": 36,
     "metadata": {},
     "output_type": "execute_result"
    },
    {
     "data": {
      "image/png": "[encoded data removed]",
      "text/plain": [
       "<Figure size 432x288 with 1 Axes>"
      ]
     },
     "metadata": {
      "needs_background": "light"
     },
     "output_type": "display_data"
    }
   ],
   "source": [
    "sales_data['Day'].hist(bins = 15,color='indianred')\n",
    "plt.title('Day-wise Sales')\n",
    "plt.xlabel(\"Day\")\n",
    "plt.ylabel(\"Count\")"
   ]
  },
  {
   "cell_type": "code",
   "execution_count": 40,
   "id": "8103ee6b",
   "metadata": {},
   "outputs": [
    {
     "data": {
      "text/plain": [
       "Text(0.5, 1.0, 'Sale Price Compared To Value Distribution')"
      ]
     },
     "execution_count": 40,
     "metadata": {},
     "output_type": "execute_result"
    },
    {
     "data": {
      "image/png": "[encoded data removed]",
      "text/plain": [
       "<Figure size 432x288 with 1 Axes>"
      ]
     },
     "metadata": {
      "needs_background": "light"
     },
     "output_type": "display_data"
    }
   ],
   "source": [
    "sns.countplot(x='Sale Price Compared To Value', data=sales_data)\n",
    "plt.title('Sale Price Compared To Value Distribution')"
   ]
  },
  {
   "cell_type": "code",
   "execution_count": 41,
   "id": "02a14099",
   "metadata": {},
   "outputs": [
    {
     "data": {
      "text/plain": [
       "Over     17018\n",
       "Under     5592\n",
       "Name: Sale Price Compared To Value, dtype: int64"
      ]
     },
     "execution_count": 41,
     "metadata": {},
     "output_type": "execute_result"
    }
   ],
   "source": [
    "sales_data['Sale Price Compared To Value'].value_counts()"
   ]
  },
  {
   "cell_type": "markdown",
   "id": "bdbf9f45",
   "metadata": {},
   "source": [
    "### Removing Outliers"
   ]
  },
  {
   "cell_type": "code",
   "execution_count": 42,
   "id": "8b3cc6be",
   "metadata": {},
   "outputs": [
    {
     "data": {
      "text/plain": [
       "<function matplotlib.pyplot.show(close=None, block=None)>"
      ]
     },
     "execution_count": 42,
     "metadata": {},
     "output_type": "execute_result"
    },
    {
     "data": {
      "image/png": "[encoded data removed]",
      "text/plain": [
       "<Figure size 936x360 with 2 Axes>"
      ]
     },
     "metadata": {
      "needs_background": "light"
     },
     "output_type": "display_data"
    },
    {
     "data": {
      "text/plain": [
       "<Figure size 360x360 with 0 Axes>"
      ]
     },
     "metadata": {},
     "output_type": "display_data"
    },
    {
     "data": {
      "text/plain": [
       "<Figure size 360x360 with 0 Axes>"
      ]
     },
     "metadata": {},
     "output_type": "display_data"
    }
   ],
   "source": [
    "#Box plots--------------------------------------------------------------------------------\n",
    "fig, (axis1, axis2) = plt.subplots(1,2, figsize=(13,5))\n",
    "fig = plt.figure(figsize=(5,5))\n",
    "sns.boxplot(x='Building Value',data=sales_data,color=\"indianred\",ax = axis1).set_title('Box plot with Outliers for Building Value')\n",
    "plt.show\n",
    "\n",
    "## Removing Ouliers--------------------------------------------------------------------------------\n",
    "\n",
    "Q1 = sales_data['Building Value'].quantile(0.25)\n",
    "Q3 = sales_data['Building Value'].quantile(0.75)\n",
    "IQR = Q3 - Q1\n",
    "\n",
    "lower_lim = Q1 - 1.5 * IQR\n",
    "upper_lim = Q3 + 1.5 * IQR\n",
    "\n",
    "outliers_low = (sales_data['Building Value'] < lower_lim)\n",
    "outliers_up = (sales_data['Building Value'] > upper_lim)\n",
    "len(sales_data['Building Value'] - (len(sales_data['Building Value'][outliers_low] \n",
    "                                             + len(sales_data['Building Value'][outliers_up]))))\n",
    "sales_data['Building Value'][(outliers_low | outliers_up)]\n",
    "sales_data['Building Value'][~(outliers_low | outliers_up)]\n",
    "sales_data = sales_data[~(outliers_low | outliers_up)]\n",
    "\n",
    "#Box plots--------------------------------------------------------------------------------\n",
    "\n",
    "fig = plt.figure(figsize=(5,5))\n",
    "sns.boxplot(x='Building Value',data=sales_data,color=\"lightgreen\",ax = axis2).set_title('Box plot After removing Outliers for Building Value')\n",
    "plt.show"
   ]
  },
  {
   "cell_type": "code",
   "execution_count": 43,
   "id": "93b0620e",
   "metadata": {},
   "outputs": [
    {
     "data": {
      "text/plain": [
       "<function matplotlib.pyplot.show(close=None, block=None)>"
      ]
     },
     "execution_count": 43,
     "metadata": {},
     "output_type": "execute_result"
    },
    {
     "data": {
      "image/png": "[encoded data removed]",
      "text/plain": [
       "<Figure size 936x360 with 2 Axes>"
      ]
     },
     "metadata": {
      "needs_background": "light"
     },
     "output_type": "display_data"
    },
    {
     "data": {
      "text/plain": [
       "<Figure size 360x360 with 0 Axes>"
      ]
     },
     "metadata": {},
     "output_type": "display_data"
    },
    {
     "data": {
      "text/plain": [
       "<Figure size 360x360 with 0 Axes>"
      ]
     },
     "metadata": {},
     "output_type": "display_data"
    }
   ],
   "source": [
    "#Box plots--------------------------------------------------------------------------------\n",
    "fig, (axis1, axis2) = plt.subplots(1,2, figsize=(13,5))\n",
    "fig = plt.figure(figsize=(5,5))\n",
    "sns.boxplot(x='Land Value',data=sales_data,color=\"indianred\",ax = axis1).set_title('Box plot with Outliers for Land Value')\n",
    "plt.show\n",
    "\n",
    "## Removing Ouliers--------------------------------------------------------------------------------\n",
    "Q1 = sales_data['Land Value'].quantile(0.25)\n",
    "Q3 = sales_data['Land Value'].quantile(0.75)\n",
    "IQR = Q3 - Q1\n",
    "\n",
    "lower_lim = Q1 - 1.5 * IQR\n",
    "upper_lim = Q3 + 1.5 * IQR\n",
    "\n",
    "outliers_low = (sales_data['Land Value'] < lower_lim)\n",
    "outliers_up = (sales_data['Land Value'] > upper_lim)\n",
    "len(sales_data['Land Value'] - (len(sales_data['Land Value'][outliers_low] \n",
    "                                             + len(sales_data['Land Value'][outliers_up]))))\n",
    "sales_data['Land Value'][(outliers_low | outliers_up)]\n",
    "sales_data['Land Value'][~(outliers_low | outliers_up)]\n",
    "sales_data = sales_data[~(outliers_low | outliers_up)]\n",
    "\n",
    "#Box plots--------------------------------------------------------------------------------\n",
    "\n",
    "fig = plt.figure(figsize=(5,5))\n",
    "sns.boxplot(x='Land Value',data=sales_data,color=\"lightgreen\",ax = axis2).set_title('Box plot After removing Outliers for Land Value')\n",
    "plt.show"
   ]
  },
  {
   "cell_type": "code",
   "execution_count": 44,
   "id": "41d08987",
   "metadata": {},
   "outputs": [
    {
     "data": {
      "text/plain": [
       "<function matplotlib.pyplot.show(close=None, block=None)>"
      ]
     },
     "execution_count": 44,
     "metadata": {},
     "output_type": "execute_result"
    },
    {
     "data": {
      "image/png": "[encoded data removed]",
      "text/plain": [
       "<Figure size 936x360 with 2 Axes>"
      ]
     },
     "metadata": {
      "needs_background": "light"
     },
     "output_type": "display_data"
    },
    {
     "data": {
      "text/plain": [
       "<Figure size 360x360 with 0 Axes>"
      ]
     },
     "metadata": {},
     "output_type": "display_data"
    },
    {
     "data": {
      "text/plain": [
       "<Figure size 360x360 with 0 Axes>"
      ]
     },
     "metadata": {},
     "output_type": "display_data"
    }
   ],
   "source": [
    "#Box plots--------------------------------------------------------------------------------\n",
    "fig, (axis1, axis2) = plt.subplots(1,2, figsize=(13,5))\n",
    "fig = plt.figure(figsize=(5,5))\n",
    "sns.boxplot(x='Finished Area',data=sales_data,color=\"indianred\",ax = axis1).set_title('Box plot with Outliers for Finished Area')\n",
    "plt.show\n",
    "\n",
    "## Removing Ouliers--------------------------------------------------------------------------------\n",
    "\n",
    "Q1 = sales_data['Finished Area'].quantile(0.25)\n",
    "Q3 = sales_data['Finished Area'].quantile(0.75)\n",
    "IQR = Q3 - Q1\n",
    "\n",
    "lower_lim = Q1 - 1.5 * IQR\n",
    "upper_lim = Q3 + 1.5 * IQR\n",
    "\n",
    "outliers_low = (sales_data['Finished Area'] < lower_lim)\n",
    "outliers_up = (sales_data['Finished Area'] > upper_lim)\n",
    "len(sales_data['Finished Area'] - (len(sales_data['Finished Area'][outliers_low] \n",
    "                                             + len(sales_data['Finished Area'][outliers_up]))))\n",
    "sales_data['Finished Area'][(outliers_low | outliers_up)]\n",
    "sales_data['Finished Area'][~(outliers_low | outliers_up)]\n",
    "sales_data = sales_data[~(outliers_low | outliers_up)]\n",
    "\n",
    "\n",
    "#Box plots--------------------------------------------------------------------------------\n",
    "\n",
    "fig = plt.figure(figsize=(5,5))\n",
    "sns.boxplot(x='Finished Area',data=sales_data,color=\"lightgreen\",ax = axis2).set_title('Box plot After removing Outliers for Finished Area')\n",
    "plt.show"
   ]
  },
  {
   "cell_type": "markdown",
   "id": "2a4a89cb",
   "metadata": {},
   "source": [
    "### Feature Engineering"
   ]
  },
  {
   "cell_type": "code",
   "execution_count": 45,
   "id": "dbef0786",
   "metadata": {},
   "outputs": [],
   "source": [
    "X = sales_data.apply(lambda col: preprocessing.LabelEncoder().fit_transform(col))\n",
    "y = X['Sale Price Compared To Value']"
   ]
  },
  {
   "cell_type": "code",
   "execution_count": 46,
   "id": "c583ae2a",
   "metadata": {},
   "outputs": [],
   "source": [
    "\n",
    "X = X.drop(['Sale Price Compared To Value'],axis = 1)"
   ]
  },
  {
   "cell_type": "code",
   "execution_count": 49,
   "id": "430b7cd9",
   "metadata": {},
   "outputs": [
    {
     "name": "stdout",
     "output_type": "stream",
     "text": [
      "Chosen best 10 feature by rfe: Index(['Property Address', 'Sale Date', 'Legal Reference', 'Acreage',\n",
      "       'Neighborhood', 'Land Value', 'Building Value', 'Finished Area',\n",
      "       'Year Built', 'Day'],\n",
      "      dtype='object')\n"
     ]
    }
   ],
   "source": [
    "# Create the RFE object and rank each pixel\n",
    "clf_rf_3 = RandomForestClassifier()      \n",
    "rfe = RFE(estimator=clf_rf_3, n_features_to_select=10, step=1)\n",
    "rfe = rfe.fit(X, y)\n",
    "print('Chosen best 10 feature by rfe:',X.columns[rfe.support_])"
   ]
  },
  {
   "cell_type": "code",
   "execution_count": 50,
   "id": "9c5e4f40",
   "metadata": {},
   "outputs": [],
   "source": [
    "features=list(X.columns[rfe.support_])"
   ]
  },
  {
   "cell_type": "code",
   "execution_count": 51,
   "id": "3c941bc0",
   "metadata": {},
   "outputs": [],
   "source": [
    "x = X[features]\n",
    "x_train,x_test,y_train,y_test = train_test_split(x,y,test_size=0.2, random_state = 0)"
   ]
  },
  {
   "cell_type": "markdown",
   "id": "68563c4c",
   "metadata": {},
   "source": [
    "### Decision Tree Classifier"
   ]
  },
  {
   "cell_type": "code",
   "execution_count": 52,
   "id": "e10d4ba2",
   "metadata": {},
   "outputs": [
    {
     "data": {
      "text/plain": [
       "0.6946564885496184"
      ]
     },
     "execution_count": 52,
     "metadata": {},
     "output_type": "execute_result"
    }
   ],
   "source": [
    "dt_classifier = DecisionTreeClassifier(random_state=0)\n",
    "dt_classifier.fit(x_train,y_train)\n",
    "y_train_pred = dt_classifier.predict(x_train)\n",
    "y_predict = dt_classifier.predict(x_test)\n",
    "dt_classifier.score(x_test,y_test)"
   ]
  },
  {
   "cell_type": "code",
   "execution_count": 53,
   "id": "63b58db4",
   "metadata": {},
   "outputs": [
    {
     "data": {
      "text/plain": [
       "0.7762771579565473"
      ]
     },
     "execution_count": 53,
     "metadata": {},
     "output_type": "execute_result"
    }
   ],
   "source": [
    "dt_classifier = DecisionTreeClassifier(random_state=0,criterion='entropy',max_depth=8)\n",
    "dt_classifier.fit(x_train,y_train)\n",
    "y_train_pred = dt_classifier.predict(x_train)\n",
    "y_predict = dt_classifier.predict(x_test)\n",
    "dt_classifier.score(x_test,y_test)"
   ]
  },
  {
   "cell_type": "code",
   "execution_count": 54,
   "id": "f3f8dc7a",
   "metadata": {},
   "outputs": [
    {
     "name": "stdout",
     "output_type": "stream",
     "text": [
      "              precision    recall  f1-score   support\n",
      "\n",
      "           0       0.80      0.94      0.86      2592\n",
      "           1       0.57      0.27      0.36       814\n",
      "\n",
      "    accuracy                           0.78      3406\n",
      "   macro avg       0.69      0.60      0.61      3406\n",
      "weighted avg       0.75      0.78      0.74      3406\n",
      "\n",
      "[[2428  164]\n",
      " [ 598  216]]\n"
     ]
    },
    {
     "data": {
      "text/plain": [
       "<AxesSubplot:>"
      ]
     },
     "execution_count": 54,
     "metadata": {},
     "output_type": "execute_result"
    },
    {
     "data": {
      "image/png": "[encoded data removed]",
      "text/plain": [
       "<Figure size 432x288 with 2 Axes>"
      ]
     },
     "metadata": {
      "needs_background": "light"
     },
     "output_type": "display_data"
    }
   ],
   "source": [
    "#Evaluation \n",
    "from sklearn.metrics import classification_report\n",
    "print(classification_report(y_test,y_predict))\n",
    "\n",
    "#Accuracy of our model.\n",
    "from sklearn.metrics import confusion_matrix\n",
    "cmm=confusion_matrix(y_test,y_predict)\n",
    "print(cmm)\n",
    "\n",
    "## Heat Map to depict the Confusion Matrix\n",
    "sns.heatmap(cmm,cmap='YlGnBu',annot=True,fmt=\".0f\",annot_kws= {\"size\":20})\n"
   ]
  },
  {
   "cell_type": "code",
   "execution_count": 67,
   "id": "3a14be06",
   "metadata": {},
   "outputs": [
    {
     "data": {
      "text/plain": [
       "Text(0.5, 1.0, 'Feature Importance for Decision Tree')"
      ]
     },
     "execution_count": 67,
     "metadata": {},
     "output_type": "execute_result"
    },
    {
     "data": {
      "image/png": "[encoded data removed]",
      "text/plain": [
       "<Figure size 432x288 with 1 Axes>"
      ]
     },
     "metadata": {
      "needs_background": "light"
     },
     "output_type": "display_data"
    }
   ],
   "source": [
    "pd.Series(dt_classifier.feature_importances_,x.columns).sort_values(ascending=True).plot.barh(width=0.8)\n",
    "plt.title('Feature Importance for Decision Tree')"
   ]
  },
  {
   "cell_type": "markdown",
   "id": "10f60e88",
   "metadata": {},
   "source": [
    "### Random Forest"
   ]
  },
  {
   "cell_type": "code",
   "execution_count": 56,
   "id": "705e1caf",
   "metadata": {
    "scrolled": false
   },
   "outputs": [
    {
     "data": {
      "text/plain": [
       "0.7827363476218439"
      ]
     },
     "execution_count": 56,
     "metadata": {},
     "output_type": "execute_result"
    }
   ],
   "source": [
    "\n",
    "rf_classifier = RandomForestClassifier(n_estimators=100, random_state=0)\n",
    "rf_classifier.fit(x_train,y_train)\n",
    "y_train_pred = rf_classifier.predict(x_train)\n",
    "y_predict = rf_classifier.predict(x_test)\n",
    "rf_classifier.score(x_test,y_test)"
   ]
  },
  {
   "cell_type": "code",
   "execution_count": 57,
   "id": "1ac6ce0c",
   "metadata": {},
   "outputs": [
    {
     "name": "stdout",
     "output_type": "stream",
     "text": [
      "              precision    recall  f1-score   support\n",
      "\n",
      "           0       0.81      0.93      0.87      2592\n",
      "           1       0.59      0.30      0.40       814\n",
      "\n",
      "    accuracy                           0.78      3406\n",
      "   macro avg       0.70      0.62      0.63      3406\n",
      "weighted avg       0.76      0.78      0.76      3406\n",
      "\n",
      "[[2418  174]\n",
      " [ 566  248]]\n"
     ]
    },
    {
     "data": {
      "text/plain": [
       "<AxesSubplot:>"
      ]
     },
     "execution_count": 57,
     "metadata": {},
     "output_type": "execute_result"
    },
    {
     "data": {
      "image/png": "[encoded data removed]",
      "text/plain": [
       "<Figure size 432x288 with 2 Axes>"
      ]
     },
     "metadata": {
      "needs_background": "light"
     },
     "output_type": "display_data"
    }
   ],
   "source": [
    "#Evaluation \n",
    "from sklearn.metrics import classification_report\n",
    "print(classification_report(y_test,y_predict))\n",
    "\n",
    "#Accuracy of our model.\n",
    "from sklearn.metrics import confusion_matrix\n",
    "cmm=confusion_matrix(y_test,y_predict)\n",
    "print(cmm)\n",
    "\n",
    "## Heat Map to depict the Confusion Matrix\n",
    "sns.heatmap(cmm,cmap='YlGnBu',annot=True,fmt=\".0f\",annot_kws= {\"size\":20})\n",
    "\n"
   ]
  },
  {
   "cell_type": "code",
   "execution_count": 58,
   "id": "a0b2bb89",
   "metadata": {},
   "outputs": [
    {
     "data": {
      "text/plain": [
       "Text(0.5, 1.0, 'Feature Importance for Random Forest')"
      ]
     },
     "execution_count": 58,
     "metadata": {},
     "output_type": "execute_result"
    },
    {
     "data": {
      "image/png": "[encoded data removed]",
      "text/plain": [
       "<Figure size 432x288 with 1 Axes>"
      ]
     },
     "metadata": {
      "needs_background": "light"
     },
     "output_type": "display_data"
    }
   ],
   "source": [
    "pd.Series(rf_classifier.feature_importances_,x.columns).sort_values(ascending=True).plot.barh(width=0.8)\n",
    "plt.title('Feature Importance for Random Forest')"
   ]
  },
  {
   "cell_type": "markdown",
   "id": "4e6659e3",
   "metadata": {},
   "source": [
    "### Gradient Boost"
   ]
  },
  {
   "cell_type": "code",
   "execution_count": 59,
   "id": "edc2bf26",
   "metadata": {},
   "outputs": [],
   "source": [
    "# import machine learning algorithms\n",
    "from sklearn.ensemble import GradientBoostingClassifier\n",
    "from sklearn.metrics import classification_report, confusion_matrix, roc_curve, auc"
   ]
  },
  {
   "cell_type": "code",
   "execution_count": 60,
   "id": "c3a3c57c",
   "metadata": {},
   "outputs": [
    {
     "data": {
      "text/plain": [
       "0.7865531415149736"
      ]
     },
     "execution_count": 60,
     "metadata": {},
     "output_type": "execute_result"
    }
   ],
   "source": [
    "\n",
    "gb_classifier = GradientBoostingClassifier(n_estimators=150, max_depth = 21,max_leaf_nodes=8,min_samples_leaf=2)\n",
    "gb_classifier.fit(x_train,y_train)\n",
    "y_train_pred = gb_classifier.predict(x_train)\n",
    "y_predict = gb_classifier.predict(x_test)\n",
    "gb_classifier.score(x_test,y_test)"
   ]
  },
  {
   "cell_type": "code",
   "execution_count": 61,
   "id": "076b35e7",
   "metadata": {},
   "outputs": [
    {
     "name": "stdout",
     "output_type": "stream",
     "text": [
      "              precision    recall  f1-score   support\n",
      "\n",
      "           0       0.80      0.95      0.87      2592\n",
      "           1       0.63      0.26      0.37       814\n",
      "\n",
      "    accuracy                           0.79      3406\n",
      "   macro avg       0.72      0.61      0.62      3406\n",
      "weighted avg       0.76      0.79      0.75      3406\n",
      "\n",
      "[[2467  125]\n",
      " [ 602  212]]\n"
     ]
    },
    {
     "data": {
      "text/plain": [
       "<AxesSubplot:>"
      ]
     },
     "execution_count": 61,
     "metadata": {},
     "output_type": "execute_result"
    },
    {
     "data": {
      "image/png": "[encoded data removed]",
      "text/plain": [
       "<Figure size 432x288 with 2 Axes>"
      ]
     },
     "metadata": {
      "needs_background": "light"
     },
     "output_type": "display_data"
    }
   ],
   "source": [
    "#Evaluation \n",
    "from sklearn.metrics import classification_report\n",
    "print(classification_report(y_test,y_predict))\n",
    "\n",
    "#Accuracy of our model.\n",
    "from sklearn.metrics import confusion_matrix\n",
    "cmm=confusion_matrix(y_test,y_predict)\n",
    "print(cmm)\n",
    "\n",
    "## Heat Map to depict the Confusion Matrix\n",
    "sns.heatmap(cmm,cmap='YlGnBu',annot=True,fmt=\".0f\",annot_kws= {\"size\":20})\n",
    "\n",
    "\n"
   ]
  },
  {
   "cell_type": "code",
   "execution_count": 62,
   "id": "53dec828",
   "metadata": {},
   "outputs": [
    {
     "data": {
      "text/plain": [
       "Text(0.5, 1.0, 'Feature Importance for Gradient Boost')"
      ]
     },
     "execution_count": 62,
     "metadata": {},
     "output_type": "execute_result"
    },
    {
     "data": {
      "image/png": "[encoded data removed]",
      "text/plain": [
       "<Figure size 432x288 with 1 Axes>"
      ]
     },
     "metadata": {
      "needs_background": "light"
     },
     "output_type": "display_data"
    }
   ],
   "source": [
    "pd.Series(gb_classifier.feature_importances_,x.columns).sort_values(ascending=True).plot.barh(width=0.8)\n",
    "plt.title('Feature Importance for Gradient Boost')"
   ]
  },
  {
   "cell_type": "code",
   "execution_count": null,
   "id": "e4cf6d4a",
   "metadata": {},
   "outputs": [],
   "source": []
  },
  {
   "cell_type": "code",
   "execution_count": null,
   "id": "3f0353d1",
   "metadata": {},
   "outputs": [],
   "source": []
  }
 ],
 "metadata": {
  "kernelspec": {
   "display_name": "Python 3 (ipykernel)",
   "language": "python",
   "name": "python3"
  },
  "language_info": {
   "codemirror_mode": {
    "name": "ipython",
    "version": 3
   },
   "file_extension": ".py",
   "mimetype": "text/x-python",
   "name": "python",
   "nbconvert_exporter": "python",
   "pygments_lexer": "ipython3",
   "version": "3.9.12"
  }
 },
 "nbformat": 4,
 "nbformat_minor": 5
}
